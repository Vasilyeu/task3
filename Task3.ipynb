{
 "cells": [
  {
   "cell_type": "code",
   "execution_count": 12,
   "metadata": {},
   "outputs": [],
   "source": [
    "import pandas as pd\n",
    "import matplotlib.pyplot as plt\n",
    "import seaborn as sns\n",
    "import numpy as np\n",
    "\n",
    "import statsmodels.api as sm"
   ]
  },
  {
   "cell_type": "code",
   "execution_count": 2,
   "metadata": {},
   "outputs": [],
   "source": [
    "pd.set_option('display.max_columns', 500)\n",
    "pd.set_option('display.width', 1000)\n",
    "pd.set_option('display.max_rows', 100)\n",
    "\n",
    "import warnings\n",
    "warnings.simplefilter('ignore')\n",
    "\n",
    "from pylab import rcParams\n",
    "rcParams['figure.figsize'] = 12, 8"
   ]
  },
  {
   "cell_type": "code",
   "execution_count": 3,
   "metadata": {},
   "outputs": [],
   "source": [
    "data = pd.read_excel(\"task3.xlsx\")"
   ]
  },
  {
   "cell_type": "code",
   "execution_count": 5,
   "metadata": {},
   "outputs": [
    {
     "data": {
      "text/html": [
       "<div>\n",
       "<style scoped>\n",
       "    .dataframe tbody tr th:only-of-type {\n",
       "        vertical-align: middle;\n",
       "    }\n",
       "\n",
       "    .dataframe tbody tr th {\n",
       "        vertical-align: top;\n",
       "    }\n",
       "\n",
       "    .dataframe thead th {\n",
       "        text-align: right;\n",
       "    }\n",
       "</style>\n",
       "<table border=\"1\" class=\"dataframe\">\n",
       "  <thead>\n",
       "    <tr style=\"text-align: right;\">\n",
       "      <th></th>\n",
       "      <th>Date</th>\n",
       "      <th>Day</th>\n",
       "      <th>Application price</th>\n",
       "      <th>Total app installs (marketing+organic from store)</th>\n",
       "      <th>Impressions</th>\n",
       "      <th>Clicks</th>\n",
       "      <th>CTR, %</th>\n",
       "      <th>Conversion, %</th>\n",
       "      <th>Marketing spend</th>\n",
       "      <th>Installs from Marketing campaigns</th>\n",
       "      <th>Cost per install</th>\n",
       "      <th>Margin</th>\n",
       "    </tr>\n",
       "  </thead>\n",
       "  <tbody>\n",
       "    <tr>\n",
       "      <th>0</th>\n",
       "      <td>2015-10-01</td>\n",
       "      <td>Thu</td>\n",
       "      <td>2.99</td>\n",
       "      <td>257</td>\n",
       "      <td>508747</td>\n",
       "      <td>7742</td>\n",
       "      <td>1.52</td>\n",
       "      <td>1.06</td>\n",
       "      <td>317.54</td>\n",
       "      <td>82</td>\n",
       "      <td>3.87</td>\n",
       "      <td>450.89</td>\n",
       "    </tr>\n",
       "    <tr>\n",
       "      <th>1</th>\n",
       "      <td>2015-10-02</td>\n",
       "      <td>Fri</td>\n",
       "      <td>2.99</td>\n",
       "      <td>229</td>\n",
       "      <td>536338</td>\n",
       "      <td>9342</td>\n",
       "      <td>1.74</td>\n",
       "      <td>0.79</td>\n",
       "      <td>269.25</td>\n",
       "      <td>74</td>\n",
       "      <td>3.64</td>\n",
       "      <td>415.46</td>\n",
       "    </tr>\n",
       "    <tr>\n",
       "      <th>2</th>\n",
       "      <td>2015-10-03</td>\n",
       "      <td>Sat</td>\n",
       "      <td>2.99</td>\n",
       "      <td>311</td>\n",
       "      <td>456111</td>\n",
       "      <td>6277</td>\n",
       "      <td>1.38</td>\n",
       "      <td>2.29</td>\n",
       "      <td>428.70</td>\n",
       "      <td>144</td>\n",
       "      <td>2.98</td>\n",
       "      <td>501.19</td>\n",
       "    </tr>\n",
       "    <tr>\n",
       "      <th>3</th>\n",
       "      <td>2015-10-04</td>\n",
       "      <td>Sun</td>\n",
       "      <td>2.99</td>\n",
       "      <td>375</td>\n",
       "      <td>486295</td>\n",
       "      <td>7119</td>\n",
       "      <td>1.46</td>\n",
       "      <td>2.63</td>\n",
       "      <td>504.55</td>\n",
       "      <td>187</td>\n",
       "      <td>2.70</td>\n",
       "      <td>616.70</td>\n",
       "    </tr>\n",
       "    <tr>\n",
       "      <th>4</th>\n",
       "      <td>2015-10-05</td>\n",
       "      <td>Mon</td>\n",
       "      <td>2.99</td>\n",
       "      <td>395</td>\n",
       "      <td>546237</td>\n",
       "      <td>7750</td>\n",
       "      <td>1.42</td>\n",
       "      <td>2.95</td>\n",
       "      <td>620.38</td>\n",
       "      <td>229</td>\n",
       "      <td>2.71</td>\n",
       "      <td>560.67</td>\n",
       "    </tr>\n",
       "  </tbody>\n",
       "</table>\n",
       "</div>"
      ],
      "text/plain": [
       "        Date  Day  Application price  Total app installs (marketing+organic from store)  Impressions  Clicks  CTR, %  Conversion, %  Marketing spend  Installs from Marketing campaigns  Cost per install  Margin\n",
       "0 2015-10-01  Thu               2.99                                                257       508747    7742    1.52           1.06           317.54                                 82              3.87  450.89\n",
       "1 2015-10-02  Fri               2.99                                                229       536338    9342    1.74           0.79           269.25                                 74              3.64  415.46\n",
       "2 2015-10-03  Sat               2.99                                                311       456111    6277    1.38           2.29           428.70                                144              2.98  501.19\n",
       "3 2015-10-04  Sun               2.99                                                375       486295    7119    1.46           2.63           504.55                                187              2.70  616.70\n",
       "4 2015-10-05  Mon               2.99                                                395       546237    7750    1.42           2.95           620.38                                229              2.71  560.67"
      ]
     },
     "execution_count": 5,
     "metadata": {},
     "output_type": "execute_result"
    }
   ],
   "source": [
    "data.head()"
   ]
  },
  {
   "cell_type": "markdown",
   "metadata": {},
   "source": [
    "### 1. At what price does application maximize its margin (Revenue-Marketing spend)?"
   ]
  },
  {
   "cell_type": "code",
   "execution_count": 4,
   "metadata": {},
   "outputs": [],
   "source": [
    "data['Margin'] = data['Application price']*data['Total app installs (marketing+organic from store)']-data['Marketing spend']"
   ]
  },
  {
   "cell_type": "code",
   "execution_count": 6,
   "metadata": {},
   "outputs": [
    {
     "data": {
      "text/plain": [
       "Application price\n",
       "1.99      533.551250\n",
       "2.99      944.416667\n",
       "9.99     3345.639143\n",
       "14.99    9606.120606\n",
       "Name: Margin, dtype: float64"
      ]
     },
     "execution_count": 6,
     "metadata": {},
     "output_type": "execute_result"
    }
   ],
   "source": [
    "data.groupby(['Application price'])['Margin'].mean()"
   ]
  },
  {
   "cell_type": "markdown",
   "metadata": {},
   "source": [
    "#### Application maximize its margin at price 14.99"
   ]
  },
  {
   "cell_type": "markdown",
   "metadata": {},
   "source": [
    "### 2. What factors have influence on total installs of the application? What factor influences app downloads more? Evaluate their influence and statistical significance using regression analysis."
   ]
  },
  {
   "cell_type": "code",
   "execution_count": 7,
   "metadata": {},
   "outputs": [],
   "source": [
    "cor_matrix = data.corr()"
   ]
  },
  {
   "cell_type": "code",
   "execution_count": 8,
   "metadata": {},
   "outputs": [
    {
     "data": {
      "text/html": [
       "<div>\n",
       "<style scoped>\n",
       "    .dataframe tbody tr th:only-of-type {\n",
       "        vertical-align: middle;\n",
       "    }\n",
       "\n",
       "    .dataframe tbody tr th {\n",
       "        vertical-align: top;\n",
       "    }\n",
       "\n",
       "    .dataframe thead th {\n",
       "        text-align: right;\n",
       "    }\n",
       "</style>\n",
       "<table border=\"1\" class=\"dataframe\">\n",
       "  <thead>\n",
       "    <tr style=\"text-align: right;\">\n",
       "      <th></th>\n",
       "      <th>Application price</th>\n",
       "      <th>Total app installs (marketing+organic from store)</th>\n",
       "      <th>Impressions</th>\n",
       "      <th>Clicks</th>\n",
       "      <th>CTR, %</th>\n",
       "      <th>Conversion, %</th>\n",
       "      <th>Marketing spend</th>\n",
       "      <th>Installs from Marketing campaigns</th>\n",
       "      <th>Cost per install</th>\n",
       "      <th>Margin</th>\n",
       "    </tr>\n",
       "  </thead>\n",
       "  <tbody>\n",
       "    <tr>\n",
       "      <th>Application price</th>\n",
       "      <td>1.000000</td>\n",
       "      <td>0.211325</td>\n",
       "      <td>0.645158</td>\n",
       "      <td>0.664840</td>\n",
       "      <td>0.465958</td>\n",
       "      <td>-0.644149</td>\n",
       "      <td>0.727565</td>\n",
       "      <td>0.360348</td>\n",
       "      <td>0.834463</td>\n",
       "      <td>0.785426</td>\n",
       "    </tr>\n",
       "    <tr>\n",
       "      <th>Total app installs (marketing+organic from store)</th>\n",
       "      <td>0.211325</td>\n",
       "      <td>1.000000</td>\n",
       "      <td>0.594301</td>\n",
       "      <td>0.715394</td>\n",
       "      <td>0.569319</td>\n",
       "      <td>0.266708</td>\n",
       "      <td>0.764904</td>\n",
       "      <td>0.970498</td>\n",
       "      <td>-0.018953</td>\n",
       "      <td>0.666577</td>\n",
       "    </tr>\n",
       "    <tr>\n",
       "      <th>Impressions</th>\n",
       "      <td>0.645158</td>\n",
       "      <td>0.594301</td>\n",
       "      <td>1.000000</td>\n",
       "      <td>0.934473</td>\n",
       "      <td>0.360989</td>\n",
       "      <td>-0.435134</td>\n",
       "      <td>0.818027</td>\n",
       "      <td>0.694454</td>\n",
       "      <td>0.518762</td>\n",
       "      <td>0.785464</td>\n",
       "    </tr>\n",
       "    <tr>\n",
       "      <th>Clicks</th>\n",
       "      <td>0.664840</td>\n",
       "      <td>0.715394</td>\n",
       "      <td>0.934473</td>\n",
       "      <td>1.000000</td>\n",
       "      <td>0.605265</td>\n",
       "      <td>-0.369631</td>\n",
       "      <td>0.924374</td>\n",
       "      <td>0.814531</td>\n",
       "      <td>0.478093</td>\n",
       "      <td>0.897088</td>\n",
       "    </tr>\n",
       "    <tr>\n",
       "      <th>CTR, %</th>\n",
       "      <td>0.465958</td>\n",
       "      <td>0.569319</td>\n",
       "      <td>0.360989</td>\n",
       "      <td>0.605265</td>\n",
       "      <td>1.000000</td>\n",
       "      <td>-0.089652</td>\n",
       "      <td>0.661965</td>\n",
       "      <td>0.626829</td>\n",
       "      <td>0.268651</td>\n",
       "      <td>0.637142</td>\n",
       "    </tr>\n",
       "    <tr>\n",
       "      <th>Conversion, %</th>\n",
       "      <td>-0.644149</td>\n",
       "      <td>0.266708</td>\n",
       "      <td>-0.435134</td>\n",
       "      <td>-0.369631</td>\n",
       "      <td>-0.089652</td>\n",
       "      <td>1.000000</td>\n",
       "      <td>-0.250760</td>\n",
       "      <td>0.138675</td>\n",
       "      <td>-0.765997</td>\n",
       "      <td>-0.323840</td>\n",
       "    </tr>\n",
       "    <tr>\n",
       "      <th>Marketing spend</th>\n",
       "      <td>0.727565</td>\n",
       "      <td>0.764904</td>\n",
       "      <td>0.818027</td>\n",
       "      <td>0.924374</td>\n",
       "      <td>0.661965</td>\n",
       "      <td>-0.250760</td>\n",
       "      <td>1.000000</td>\n",
       "      <td>0.850549</td>\n",
       "      <td>0.524964</td>\n",
       "      <td>0.951028</td>\n",
       "    </tr>\n",
       "    <tr>\n",
       "      <th>Installs from Marketing campaigns</th>\n",
       "      <td>0.360348</td>\n",
       "      <td>0.970498</td>\n",
       "      <td>0.694454</td>\n",
       "      <td>0.814531</td>\n",
       "      <td>0.626829</td>\n",
       "      <td>0.138675</td>\n",
       "      <td>0.850549</td>\n",
       "      <td>1.000000</td>\n",
       "      <td>0.104071</td>\n",
       "      <td>0.746317</td>\n",
       "    </tr>\n",
       "    <tr>\n",
       "      <th>Cost per install</th>\n",
       "      <td>0.834463</td>\n",
       "      <td>-0.018953</td>\n",
       "      <td>0.518762</td>\n",
       "      <td>0.478093</td>\n",
       "      <td>0.268651</td>\n",
       "      <td>-0.765997</td>\n",
       "      <td>0.524964</td>\n",
       "      <td>0.104071</td>\n",
       "      <td>1.000000</td>\n",
       "      <td>0.519644</td>\n",
       "    </tr>\n",
       "    <tr>\n",
       "      <th>Margin</th>\n",
       "      <td>0.785426</td>\n",
       "      <td>0.666577</td>\n",
       "      <td>0.785464</td>\n",
       "      <td>0.897088</td>\n",
       "      <td>0.637142</td>\n",
       "      <td>-0.323840</td>\n",
       "      <td>0.951028</td>\n",
       "      <td>0.746317</td>\n",
       "      <td>0.519644</td>\n",
       "      <td>1.000000</td>\n",
       "    </tr>\n",
       "  </tbody>\n",
       "</table>\n",
       "</div>"
      ],
      "text/plain": [
       "                                                   Application price  Total app installs (marketing+organic from store)  Impressions    Clicks    CTR, %  Conversion, %  Marketing spend  Installs from Marketing campaigns  Cost per install    Margin\n",
       "Application price                                           1.000000                                           0.211325     0.645158  0.664840  0.465958      -0.644149         0.727565                           0.360348          0.834463  0.785426\n",
       "Total app installs (marketing+organic from store)           0.211325                                           1.000000     0.594301  0.715394  0.569319       0.266708         0.764904                           0.970498         -0.018953  0.666577\n",
       "Impressions                                                 0.645158                                           0.594301     1.000000  0.934473  0.360989      -0.435134         0.818027                           0.694454          0.518762  0.785464\n",
       "Clicks                                                      0.664840                                           0.715394     0.934473  1.000000  0.605265      -0.369631         0.924374                           0.814531          0.478093  0.897088\n",
       "CTR, %                                                      0.465958                                           0.569319     0.360989  0.605265  1.000000      -0.089652         0.661965                           0.626829          0.268651  0.637142\n",
       "Conversion, %                                              -0.644149                                           0.266708    -0.435134 -0.369631 -0.089652       1.000000        -0.250760                           0.138675         -0.765997 -0.323840\n",
       "Marketing spend                                             0.727565                                           0.764904     0.818027  0.924374  0.661965      -0.250760         1.000000                           0.850549          0.524964  0.951028\n",
       "Installs from Marketing campaigns                           0.360348                                           0.970498     0.694454  0.814531  0.626829       0.138675         0.850549                           1.000000          0.104071  0.746317\n",
       "Cost per install                                            0.834463                                          -0.018953     0.518762  0.478093  0.268651      -0.765997         0.524964                           0.104071          1.000000  0.519644\n",
       "Margin                                                      0.785426                                           0.666577     0.785464  0.897088  0.637142      -0.323840         0.951028                           0.746317          0.519644  1.000000"
      ]
     },
     "execution_count": 8,
     "metadata": {},
     "output_type": "execute_result"
    }
   ],
   "source": [
    "cor_matrix"
   ]
  },
  {
   "cell_type": "code",
   "execution_count": 9,
   "metadata": {},
   "outputs": [
    {
     "data": {
      "text/plain": [
       "<matplotlib.axes._subplots.AxesSubplot at 0x1d4088545f8>"
      ]
     },
     "execution_count": 9,
     "metadata": {},
     "output_type": "execute_result"
    },
    {
     "data": {
      "image/png": "[encoded data removed]",
      "text/plain": [
       "<matplotlib.figure.Figure at 0x1d408812ef0>"
      ]
     },
     "metadata": {},
     "output_type": "display_data"
    }
   ],
   "source": [
    "sns.set(style=\"white\")\n",
    "\n",
    "# Generate a mask for the upper triangle\n",
    "mask = np.zeros_like(cor_matrix, dtype=np.bool)\n",
    "mask[np.triu_indices_from(mask)] = True\n",
    "\n",
    "# Set up the matplotlib figure\n",
    "f, ax = plt.subplots(figsize=(11, 9))\n",
    "\n",
    "# Generate a custom diverging colormap\n",
    "cmap = sns.diverging_palette(220, 10, as_cmap=True)\n",
    "\n",
    "# Draw the heatmap with the mask and correct aspect ratio\n",
    "sns.heatmap(cor_matrix, mask=mask, cmap=cmap, center=0,\n",
    "            square=True, linewidths=.5, cbar_kws={\"shrink\": .5})"
   ]
  },
  {
   "cell_type": "markdown",
   "metadata": {},
   "source": [
    "In our dataset there are several factors that can influence on total installs of the application: \n",
    "1. Application price\n",
    "2. Impressions\n",
    "3. Clicks\n",
    "4. CTR\n",
    "5. Conversion\n",
    "6. Marketing spend\n",
    "7. Cost per install"
   ]
  },
  {
   "cell_type": "code",
   "execution_count": 10,
   "metadata": {},
   "outputs": [],
   "source": [
    "installs = data['Total app installs (marketing+organic from store)'].values"
   ]
  },
  {
   "cell_type": "code",
   "execution_count": 11,
   "metadata": {},
   "outputs": [
    {
     "name": "stdout",
     "output_type": "stream",
     "text": [
      "                            OLS Regression Results                            \n",
      "==============================================================================\n",
      "Dep. Variable:                      y   R-squared:                       0.891\n",
      "Model:                            OLS   Adj. R-squared:                  0.888\n",
      "Method:                 Least Squares   F-statistic:                     297.4\n",
      "Date:                Sun, 06 May 2018   Prob (F-statistic):          1.77e-118\n",
      "Time:                        21:15:14   Log-Likelihood:                -1588.3\n",
      "No. Observations:                 262   AIC:                             3193.\n",
      "Df Residuals:                     254   BIC:                             3221.\n",
      "Df Model:                           7                                         \n",
      "Covariance Type:            nonrobust                                         \n",
      "==============================================================================\n",
      "                 coef    std err          t      P>|t|      [0.025      0.975]\n",
      "------------------------------------------------------------------------------\n",
      "x1           -26.1693      3.653     -7.164      0.000     -33.363     -18.975\n",
      "x2             0.0004      0.000      3.415      0.001       0.000       0.001\n",
      "x3            -0.0049      0.006     -0.812      0.418      -0.017       0.007\n",
      "x4           118.3595     31.696      3.734      0.000      55.939     180.780\n",
      "x5            35.2296      6.446      5.466      0.000      22.536      47.923\n",
      "x6             0.2299      0.023     10.161      0.000       0.185       0.274\n",
      "x7           -31.6944     10.653     -2.975      0.003     -52.674     -10.715\n",
      "const        -12.5858     83.620     -0.151      0.880    -177.264     152.092\n",
      "==============================================================================\n",
      "Omnibus:                       84.249   Durbin-Watson:                   0.667\n",
      "Prob(Omnibus):                  0.000   Jarque-Bera (JB):              272.941\n",
      "Skew:                           1.371   Prob(JB):                     5.39e-60\n",
      "Kurtosis:                       7.181   Cond. No.                     6.09e+06\n",
      "==============================================================================\n",
      "\n",
      "Warnings:\n",
      "[1] Standard Errors assume that the covariance matrix of the errors is correctly specified.\n",
      "[2] The condition number is large, 6.09e+06. This might indicate that there are\n",
      "strong multicollinearity or other numerical problems.\n"
     ]
    }
   ],
   "source": [
    "factors = data[['Application price', 'Impressions', 'Clicks', 'CTR, %', 'Conversion, %', 'Marketing spend',\n",
    "              'Cost per install']].as_matrix()\n",
    "factors = sm.add_constant(factors, prepend=False)\n",
    "model_ols = sm.OLS(installs, factors)\n",
    "res = model_ols.fit()\n",
    "print(res.summary())"
   ]
  },
  {
   "cell_type": "markdown",
   "metadata": {},
   "source": [
    "Impression and Clicks and Cost per instll has hight coefficient of correlation with Marketing spend. We remove it from model to avoid multicollinearity."
   ]
  },
  {
   "cell_type": "code",
   "execution_count": 13,
   "metadata": {},
   "outputs": [],
   "source": [
    "factors2 = data[['Application price', 'CTR, %', 'Conversion, %', 'Marketing spend']].as_matrix()"
   ]
  },
  {
   "cell_type": "code",
   "execution_count": 14,
   "metadata": {},
   "outputs": [
    {
     "name": "stdout",
     "output_type": "stream",
     "text": [
      "                            OLS Regression Results                            \n",
      "==============================================================================\n",
      "Dep. Variable:                      y   R-squared:                       0.870\n",
      "Model:                            OLS   Adj. R-squared:                  0.868\n",
      "Method:                 Least Squares   F-statistic:                     431.2\n",
      "Date:                Sun, 06 May 2018   Prob (F-statistic):          1.13e-112\n",
      "Time:                        21:15:44   Log-Likelihood:                -1611.3\n",
      "No. Observations:                 262   AIC:                             3233.\n",
      "Df Residuals:                     257   BIC:                             3250.\n",
      "Df Model:                           4                                         \n",
      "Covariance Type:            nonrobust                                         \n",
      "==============================================================================\n",
      "                 coef    std err          t      P>|t|      [0.025      0.975]\n",
      "------------------------------------------------------------------------------\n",
      "x1           -35.2122      3.236    -10.880      0.000     -41.585     -28.839\n",
      "x2            52.3873     24.057      2.178      0.030       5.012      99.762\n",
      "x3            33.1355      4.500      7.363      0.000      24.273      41.998\n",
      "x4             0.2844      0.010     28.089      0.000       0.264       0.304\n",
      "const        131.2332     58.827      2.231      0.027      15.388     247.078\n",
      "==============================================================================\n",
      "Omnibus:                       71.955   Durbin-Watson:                   0.601\n",
      "Prob(Omnibus):                  0.000   Jarque-Bera (JB):              180.880\n",
      "Skew:                           1.264   Prob(JB):                     5.28e-40\n",
      "Kurtosis:                       6.190   Cond. No.                     1.67e+04\n",
      "==============================================================================\n",
      "\n",
      "Warnings:\n",
      "[1] Standard Errors assume that the covariance matrix of the errors is correctly specified.\n",
      "[2] The condition number is large, 1.67e+04. This might indicate that there are\n",
      "strong multicollinearity or other numerical problems.\n"
     ]
    }
   ],
   "source": [
    "factors2 = sm.add_constant(factors2, prepend=False)\n",
    "model_ols_2 = sm.OLS(installs, factors2)\n",
    "res2 = model_ols_2.fit()\n",
    "print(res2.summary())"
   ]
  },
  {
   "cell_type": "markdown",
   "metadata": {},
   "source": [
    "The finale model with all significant variables:\n",
    "<br>\n",
    "Installs = 131.23 + 33.13 \\* Conversion + 0,28 \\* Marketing spend + 52.38 \\* CTR - 35.21 \\* Application price"
   ]
  },
  {
   "cell_type": "markdown",
   "metadata": {},
   "source": [
    "### 3. Try to forecast Total application installs at price 19.99. How will app margin change? Is it worth increasing the app price to this level?"
   ]
  },
  {
   "cell_type": "code",
   "execution_count": 15,
   "metadata": {
    "scrolled": true
   },
   "outputs": [
    {
     "data": {
      "text/plain": [
       "Application price\n",
       "1.99     6.937500\n",
       "2.99     6.441389\n",
       "9.99     3.130286\n",
       "14.99    3.665758\n",
       "Name: Conversion, %, dtype: float64"
      ]
     },
     "execution_count": 15,
     "metadata": {},
     "output_type": "execute_result"
    }
   ],
   "source": [
    "data.groupby(['Application price'])['Conversion, %'].mean()"
   ]
  },
  {
   "cell_type": "code",
   "execution_count": 16,
   "metadata": {},
   "outputs": [
    {
     "data": {
      "text/plain": [
       "Application price\n",
       "1.99     2.171875\n",
       "2.99     2.247870\n",
       "9.99     2.473048\n",
       "14.99    2.807576\n",
       "Name: CTR, %, dtype: float64"
      ]
     },
     "execution_count": 16,
     "metadata": {},
     "output_type": "execute_result"
    }
   ],
   "source": [
    "data.groupby(['Application price'])['CTR, %'].mean()"
   ]
  },
  {
   "cell_type": "markdown",
   "metadata": {},
   "source": [
    "Use our model for dredicting installs with price = 19.99. We will use conversion and CTR as it was with price 14.99 - 3.66 and 2.8\n",
    "<br>\n",
    "Installs = 131.23 + 33.13 \\* 3.66 + 0,28 \\* Marketing spend + 52.38 \\* 2.8 - 35.21 \\* 19.99\n",
    "<br>\n",
    "Installs = 0.28 \\* Marketing spend - 304.6981"
   ]
  },
  {
   "cell_type": "code",
   "execution_count": 17,
   "metadata": {},
   "outputs": [
    {
     "data": {
      "text/plain": [
       "Application price\n",
       "1.99      429.857500\n",
       "2.99      698.228426\n",
       "9.99     1570.392286\n",
       "14.99    3818.560000\n",
       "Name: Marketing spend, dtype: float64"
      ]
     },
     "execution_count": 17,
     "metadata": {},
     "output_type": "execute_result"
    }
   ],
   "source": [
    "data.groupby(['Application price'])['Marketing spend'].mean()"
   ]
  },
  {
   "cell_type": "markdown",
   "metadata": {},
   "source": [
    "If we don't change marketing spend we get 764 installs by day\n",
    "<br>\n",
    "0.28\\*3818.56 -304.6981 = 764.5"
   ]
  },
  {
   "cell_type": "markdown",
   "metadata": {},
   "source": [
    "Revenue with new price\n",
    "<br>\n",
    "764 * 19.99 = 15272.36 \n",
    "<br>\n",
    "Margin with new price\n",
    "<br>\n",
    "15272.36 - 3818.56 = 11453.8 \n",
    "<br>\n",
    "##### The margin increase after increasing price to 19.99"
   ]
  },
  {
   "cell_type": "code",
   "execution_count": 18,
   "metadata": {},
   "outputs": [
    {
     "name": "stdout",
     "output_type": "stream",
     "text": [
      "[781.36597514]\n"
     ]
    }
   ],
   "source": [
    "#linear regression using sklearn\n",
    "from sklearn.linear_model import LinearRegression\n",
    "factors5 = data[['Application price', 'CTR, %', 'Conversion, %', 'Marketing spend']].as_matrix()\n",
    "lr = LinearRegression()\n",
    "lr.fit(factors5, installs)\n",
    "X = np.array([19.99, 2.8, 3.66, 3818.56]).reshape(1, -1)\n",
    "\n",
    "print(lr.predict(X))"
   ]
  }
 ],
 "metadata": {
  "kernelspec": {
   "display_name": "Python 3",
   "language": "python",
   "name": "python3"
  },
  "language_info": {
   "codemirror_mode": {
    "name": "ipython",
    "version": 3
   },
   "file_extension": ".py",
   "mimetype": "text/x-python",
   "name": "python",
   "nbconvert_exporter": "python",
   "pygments_lexer": "ipython3",
   "version": "3.6.4"
  }
 },
 "nbformat": 4,
 "nbformat_minor": 2
}
